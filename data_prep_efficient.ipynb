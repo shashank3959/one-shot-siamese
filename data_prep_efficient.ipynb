{
 "cells": [
  {
   "cell_type": "code",
   "execution_count": null,
   "metadata": {},
   "outputs": [],
   "source": [
    "import os\n",
    "import sys\n",
    "import random\n",
    "import itertools\n",
    "import shutil\n",
    "import numpy as np\n",
    "import matplotlib.pyplot as plt\n",
    "\n",
    "from utils import *\n",
    "from tqdm import trange\n",
    "from PIL import Image\n",
    "from collections import Counter\n",
    "\n",
    "import torch\n",
    "from torch.utils.data.dataset import Dataset\n",
    "from torch.utils.data import DataLoader\n",
    "from torchvision import transforms\n",
    "\n",
    "%load_ext autoreload\n",
    "%autoreload 2"
   ]
  },
  {
   "cell_type": "code",
   "execution_count": null,
   "metadata": {},
   "outputs": [],
   "source": [
    "# ensuring reproducibility\n",
    "np.random.seed(0)\n",
    "random.seed(0)"
   ]
  },
  {
   "cell_type": "code",
   "execution_count": null,
   "metadata": {},
   "outputs": [],
   "source": [
    "back_dir = './data/processed/background/'\n",
    "eval_dir = './data/processed/evaluation/'\n",
    "write_dir = './data/changed/'\n",
    "\n",
    "if not os.path.exists(write_dir):\n",
    "    os.makedirs(write_dir)"
   ]
  },
  {
   "cell_type": "markdown",
   "metadata": {},
   "source": [
    "## Train"
   ]
  },
  {
   "cell_type": "code",
   "execution_count": null,
   "metadata": {},
   "outputs": [],
   "source": [
    "# get list of all alphabets\n",
    "background_alphabets = [os.path.join(back_dir, x) for x in next(os.walk(back_dir))[1]]\n",
    "background_alphabets.sort()\n",
    "\n",
    "# list of all drawers (1 to 20)\n",
    "background_drawers = list(np.arange(1, 21))\n",
    "\n",
    "print(\"There are {} alphabets.\".format(len(background_alphabets)))\n",
    "print(background_alphabets)"
   ]
  },
  {
   "cell_type": "code",
   "execution_count": null,
   "metadata": {},
   "outputs": [],
   "source": [
    "# from 40 alphabets, randomly select 30\n",
    "train_alphabets = list(np.random.choice(background_alphabets, size=30, replace=False))\n",
    "valid_alphabets = [x for x in background_alphabets if x not in train_alphabets]\n",
    "\n",
    "train_alphabets.sort()\n",
    "valid_alphabets.sort()"
   ]
  },
  {
   "cell_type": "code",
   "execution_count": null,
   "metadata": {},
   "outputs": [],
   "source": [
    "train_write = os.path.join(write_dir, 'train')\n",
    "\n",
    "for alphabet in train_alphabets:\n",
    "    # eg. './data/changed/train' + '/' + 'Angelic' + '_' = './data/changed/train/Angelic_'\n",
    "    train_write_1 = train_write + '/' + alphabet.split('/')[-1] + '_'  \n",
    "    for char in os.listdir(alphabet): # eg. for character01 in Angelic\n",
    "        train_write_2 = train_write_1 + char # eg. './data/changed/train/Angelic_character01'\n",
    "        char_path = os.path.join(alphabet, char) # eg, ./data/processed/background/Angelic/character01\n",
    "        os.makedirs(train_write_2)\n",
    "        for drawer in os.listdir(char_path):\n",
    "            drawer_path = os.path.join(char_path, drawer)\n",
    "            shutil.copyfile(\n",
    "                drawer_path, os.path.join(\n",
    "                    train_write_2, drawer\n",
    "                )\n",
    "            )"
   ]
  },
  {
   "cell_type": "markdown",
   "metadata": {},
   "source": [
    "## Val"
   ]
  },
  {
   "cell_type": "code",
   "execution_count": null,
   "metadata": {},
   "outputs": [],
   "source": [
    "valid_write = os.path.join(write_dir, 'valid')\n",
    "\n",
    "for alphabet in valid_alphabets:\n",
    "    valid_write_1 = valid_write + '/' + alphabet.split('/')[-1] + '_' \n",
    "    for char in os.listdir(alphabet):\n",
    "        valid_write_2 = valid_write_1 + char\n",
    "        char_path = os.path.join(alphabet, char)\n",
    "        os.makedirs(valid_write_2)\n",
    "        for drawer in os.listdir(char_path):\n",
    "            drawer_path = os.path.join(char_path, drawer)\n",
    "            shutil.copyfile(\n",
    "                drawer_path, os.path.join(\n",
    "                    valid_write_2, drawer\n",
    "                )\n",
    "            )"
   ]
  },
  {
   "cell_type": "markdown",
   "metadata": {},
   "source": [
    "## Test"
   ]
  },
  {
   "cell_type": "code",
   "execution_count": null,
   "metadata": {},
   "outputs": [],
   "source": [
    "# get list of alphabets\n",
    "test_alphabets = [os.path.join(eval_dir, x) for x in next(os.walk(eval_dir))[1]]\n",
    "test_alphabets.sort()"
   ]
  },
  {
   "cell_type": "code",
   "execution_count": null,
   "metadata": {},
   "outputs": [],
   "source": [
    "test_write = os.path.join(write_dir, 'test')\n",
    "\n",
    "for alphabet in test_alphabets:\n",
    "    test_write_1 = test_write + '/' + alphabet.split('/')[-1] + '_' \n",
    "    for char in os.listdir(alphabet):\n",
    "        test_write_2 = test_write_1 + char\n",
    "        char_path = os.path.join(alphabet, char)\n",
    "        os.makedirs(test_write_2)\n",
    "        for drawer in os.listdir(char_path):\n",
    "            drawer_path = os.path.join(char_path, drawer)\n",
    "            shutil.copyfile(\n",
    "                drawer_path, os.path.join(\n",
    "                    test_write_2, drawer\n",
    "                )\n",
    "            )"
   ]
  },
  {
   "cell_type": "code",
   "execution_count": null,
   "metadata": {},
   "outputs": [],
   "source": []
  }
 ],
 "metadata": {
  "kernelspec": {
   "display_name": "Python 3",
   "language": "python",
   "name": "python3"
  },
  "language_info": {
   "codemirror_mode": {
    "name": "ipython",
    "version": 3
   },
   "file_extension": ".py",
   "mimetype": "text/x-python",
   "name": "python",
   "nbconvert_exporter": "python",
   "pygments_lexer": "ipython3",
   "version": "3.6.8"
  }
 },
 "nbformat": 4,
 "nbformat_minor": 2
}
